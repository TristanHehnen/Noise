{
 "cells": [
  {
   "cell_type": "markdown",
   "metadata": {},
   "source": [
    "# Erosion Simulation on Displacement Maps"
   ]
  },
  {
   "cell_type": "code",
   "execution_count": 1,
   "metadata": {
    "collapsed": true
   },
   "outputs": [],
   "source": [
    "import os\n",
    "import importlib\n",
    "import scipy.ndimage\n",
    "\n",
    "import numpy as np\n",
    "import scipy as sp\n",
    "import matplotlib.pyplot as plt\n",
    "\n",
    "from mpl_toolkits import mplot3d\n",
    "from scipy import interpolate\n",
    "from PIL import Image\n",
    "\n",
    "import core.noise as noise\n",
    " \n",
    "importlib.reload(noise);"
   ]
  },
  {
   "cell_type": "markdown",
   "metadata": {},
   "source": [
    "## Some Basic Information for this Notebook"
   ]
  },
  {
   "cell_type": "code",
   "execution_count": 2,
   "metadata": {},
   "outputs": [],
   "source": [
    "# Basic displacement map file, grayscale.\n",
    "original_well = os.path.join(\"Erosion\", \"DisplacementeWell.png\")"
   ]
  },
  {
   "cell_type": "code",
   "execution_count": null,
   "metadata": {},
   "outputs": [],
   "source": []
  },
  {
   "cell_type": "code",
   "execution_count": 3,
   "metadata": {},
   "outputs": [
    {
     "data": {
      "image/png": "[encoded data removed]",
      "text/plain": [
       "<Figure size 432x288 with 1 Axes>"
      ]
     },
     "metadata": {
      "needs_background": "light"
     },
     "output_type": "display_data"
    }
   ],
   "source": [
    "# Import the displacement map as numpy array.\n",
    "img = Image.open(original_well)\n",
    "img.load()\n",
    "well_profile = np.asarray(img.convert('L'), dtype=\"int32\")\n",
    "\n",
    "# Determine the map size (pixel).\n",
    "map_size = well_profile.shape\n",
    "\n",
    "# Show the map.\n",
    "plt.imshow(well_profile);"
   ]
  },
  {
   "cell_type": "code",
   "execution_count": 4,
   "metadata": {},
   "outputs": [],
   "source": [
    "def point(range_x, range_y, border):\n",
    "    \"\"\"\n",
    "    Take a random location within the domain of the map.\n",
    "    Sampling ranges are cropped to have a border of valid \n",
    "    cells around the sampling area.\n",
    "    \"\"\"\n",
    "    \n",
    "    min_range_x = border\n",
    "    max_range_x = range_x-border\n",
    "    \n",
    "    min_range_y = border\n",
    "    max_range_y = range_y-border\n",
    "    \n",
    "    x = np.random.randint(min_range_x, max_range_x, 1).item()\n",
    "    y = np.random.randint(min_range_y, max_range_y, 1).item()\n",
    "    return x, y"
   ]
  },
  {
   "cell_type": "markdown",
   "metadata": {},
   "source": [
    "# Precipitation - A Single Particle"
   ]
  },
  {
   "cell_type": "code",
   "execution_count": 5,
   "metadata": {},
   "outputs": [
    {
     "name": "stdout",
     "output_type": "stream",
     "text": [
      "Height value: 185\n"
     ]
    },
    {
     "data": {
      "image/png": "[encoded data removed]",
      "text/plain": [
       "<Figure size 432x288 with 1 Axes>"
      ]
     },
     "metadata": {
      "needs_background": "light"
     },
     "output_type": "display_data"
    }
   ],
   "source": [
    "# Get random point.\n",
    "x,y = point(map_size[0], map_size[1], 1)\n",
    "\n",
    "# Show the location.\n",
    "plt.imshow(well_profile)\n",
    "plt.scatter(x,y, marker=\".\",\n",
    "            color=\"k\");\n",
    "\n",
    "# Get height at point.\n",
    "print(\"Height value: {}\".format(well_profile[x][y]))"
   ]
  },
  {
   "cell_type": "code",
   "execution_count": 52,
   "metadata": {},
   "outputs": [],
   "source": [
    "# Create a stencil to get the location of the cells around\n",
    "# the randomly choosen location.\n",
    "\n",
    "# 1 2 3\n",
    "# 4 X 5\n",
    "# 6 7 8\n",
    "\n",
    "def stencil(x,y, scale=1):\n",
    "    \n",
    "    x_locs = list()\n",
    "    y_locs = list()\n",
    "    \n",
    "    for y_loc in range(3):\n",
    "        new_y = y + ((y_loc * scale) - scale)\n",
    "#         y_locs.append(new_y)\n",
    "        \n",
    "        for x_loc in range(3):\n",
    "            new_x = x + ((x_loc * scale) - scale)\n",
    "            if new_x == x:\n",
    "                if new_y == y:\n",
    "                    continue\n",
    "            x_locs.append(new_x)\n",
    "            y_locs.append(new_y)\n",
    "    \n",
    "    return [x_locs, y_locs]"
   ]
  },
  {
   "cell_type": "code",
   "execution_count": 54,
   "metadata": {},
   "outputs": [
    {
     "name": "stdout",
     "output_type": "stream",
     "text": [
      "[[1983, 1985, 1987, 1983, 1987, 1983, 1985, 1987], [1760, 1760, 1760, 1762, 1762, 1764, 1764, 1764]]\n",
      "8\n",
      "1985 1762\n"
     ]
    }
   ],
   "source": [
    "stencil_coords = stencil(x,y,2)\n",
    "print(stencil_coords)\n",
    "print(len(stencil_coords[0]))\n",
    "print(x,y)"
   ]
  },
  {
   "cell_type": "code",
   "execution_count": 75,
   "metadata": {},
   "outputs": [
    {
     "name": "stdout",
     "output_type": "stream",
     "text": [
      "Height value: 184\n",
      "[182, 182, 182, 184, 184, 185, 185, 185]\n"
     ]
    },
    {
     "data": {
      "image/png": "[encoded data removed]",
      "text/plain": [
       "<Figure size 864x864 with 1 Axes>"
      ]
     },
     "metadata": {
      "needs_background": "light"
     },
     "output_type": "display_data"
    }
   ],
   "source": [
    "# Prevent picking values outside of the map.\n",
    "border = 18\n",
    "\n",
    "# Get random point.\n",
    "x,y = point(map_size[0], map_size[1], border)\n",
    "\n",
    "# Get stencil.\n",
    "stencil_coords = stencil(x,y,border)\n",
    "\n",
    "#\n",
    "plt.figure(figsize=(12,12))\n",
    "\n",
    "# Show the location.\n",
    "plt.imshow(well_profile)\n",
    "plt.scatter(stencil_coords[0],\n",
    "            stencil_coords[1], marker=\".\",\n",
    "            color=\"r\")\n",
    "plt.scatter(x,y, marker=\".\",\n",
    "            color=\"k\");\n",
    "\n",
    "# Get height at point.\n",
    "print(\"Height value: {}\".format(well_profile[x][y]))\n",
    "\n",
    "stencil_height = list()\n",
    "for id_x, x_val in enumerate(stencil_coords[0]):\n",
    "    stencil_height.append(well_profile[x_val][stencil_coords[1][id_x]])\n",
    "#     print(well_profile[x_val][stencil_coords[1][id_x]])\n",
    "print(sorted(stencil_height))"
   ]
  },
  {
   "cell_type": "code",
   "execution_count": null,
   "metadata": {},
   "outputs": [],
   "source": []
  },
  {
   "cell_type": "code",
   "execution_count": null,
   "metadata": {},
   "outputs": [],
   "source": []
  },
  {
   "cell_type": "code",
   "execution_count": null,
   "metadata": {},
   "outputs": [],
   "source": []
  },
  {
   "cell_type": "code",
   "execution_count": null,
   "metadata": {},
   "outputs": [],
   "source": []
  },
  {
   "cell_type": "code",
   "execution_count": null,
   "metadata": {},
   "outputs": [],
   "source": []
  },
  {
   "cell_type": "code",
   "execution_count": null,
   "metadata": {},
   "outputs": [],
   "source": []
  },
  {
   "cell_type": "code",
   "execution_count": null,
   "metadata": {},
   "outputs": [],
   "source": []
  },
  {
   "cell_type": "code",
   "execution_count": null,
   "metadata": {},
   "outputs": [],
   "source": []
  },
  {
   "cell_type": "code",
   "execution_count": null,
   "metadata": {},
   "outputs": [],
   "source": []
  },
  {
   "cell_type": "code",
   "execution_count": null,
   "metadata": {},
   "outputs": [],
   "source": []
  },
  {
   "cell_type": "code",
   "execution_count": null,
   "metadata": {},
   "outputs": [],
   "source": []
  },
  {
   "cell_type": "code",
   "execution_count": null,
   "metadata": {},
   "outputs": [],
   "source": []
  },
  {
   "cell_type": "code",
   "execution_count": null,
   "metadata": {},
   "outputs": [],
   "source": []
  },
  {
   "cell_type": "code",
   "execution_count": null,
   "metadata": {},
   "outputs": [],
   "source": []
  },
  {
   "cell_type": "code",
   "execution_count": null,
   "metadata": {},
   "outputs": [],
   "source": []
  },
  {
   "cell_type": "code",
   "execution_count": null,
   "metadata": {},
   "outputs": [],
   "source": []
  },
  {
   "cell_type": "code",
   "execution_count": null,
   "metadata": {},
   "outputs": [],
   "source": []
  },
  {
   "cell_type": "code",
   "execution_count": null,
   "metadata": {},
   "outputs": [],
   "source": []
  },
  {
   "cell_type": "code",
   "execution_count": null,
   "metadata": {},
   "outputs": [],
   "source": []
  },
  {
   "cell_type": "code",
   "execution_count": null,
   "metadata": {},
   "outputs": [],
   "source": []
  },
  {
   "cell_type": "code",
   "execution_count": null,
   "metadata": {},
   "outputs": [],
   "source": []
  },
  {
   "cell_type": "code",
   "execution_count": null,
   "metadata": {},
   "outputs": [],
   "source": []
  },
  {
   "cell_type": "code",
   "execution_count": null,
   "metadata": {},
   "outputs": [],
   "source": []
  },
  {
   "cell_type": "code",
   "execution_count": null,
   "metadata": {},
   "outputs": [],
   "source": []
  },
  {
   "cell_type": "code",
   "execution_count": null,
   "metadata": {},
   "outputs": [],
   "source": []
  }
 ],
 "metadata": {
  "kernelspec": {
   "display_name": "Python 3",
   "language": "python",
   "name": "python3"
  },
  "language_info": {
   "codemirror_mode": {
    "name": "ipython",
    "version": 3
   },
   "file_extension": ".py",
   "mimetype": "text/x-python",
   "name": "python",
   "nbconvert_exporter": "python",
   "pygments_lexer": "ipython3",
   "version": "3.6.8"
  }
 },
 "nbformat": 4,
 "nbformat_minor": 2
}
